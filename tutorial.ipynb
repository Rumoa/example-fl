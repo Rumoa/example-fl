{
 "cells": [
  {
   "cell_type": "markdown",
   "metadata": {},
   "source": [
    "# Quick tutorial\n",
    "## Finding eigenvalues of a density matrix using Newton Identities and the Faddeev LeVerrier algorithm.\n",
    "### Antonio Ruiz Molero. 2022. INL\n",
    "In this document we show how to find the eigenvalues of a density matrix using the Faddeev Leverrier (F-L) algorithm. We compute an array of traces of the different powers of the density matrix: $ \\{ \\text{Tr} A^i \\}\\; i=1,...,d$ where $d$ is the dimension of the system. This array is used by the F-L algorithm to compute the coefficients of the characteristic polynomial. The polynomial can be solved with any method suited for that task, like the ones found in numpy\n",
    "\n",
    "**Disclaimer**: The algorithms are direct implementations of the pseucode available at Wikipedia. There might be errors. We have checked  solutions finding the eigenvalues with numpy and comparing the results, but proper testing of the functions is required. "
   ]
  },
  {
   "cell_type": "markdown",
   "metadata": {},
   "source": [
    "## Required packages"
   ]
  },
  {
   "cell_type": "code",
   "execution_count": 2,
   "metadata": {},
   "outputs": [],
   "source": [
    "import numpy as np\n",
    "import qutip as qu\n",
    "from numba import jit"
   ]
  },
  {
   "cell_type": "markdown",
   "metadata": {},
   "source": [
    "## Generate a density matrix of two qubits (dimension of H. space = 4)"
   ]
  },
  {
   "cell_type": "code",
   "execution_count": 3,
   "metadata": {},
   "outputs": [],
   "source": [
    "seed = 2\n",
    "n = 2 #number of qubits \n",
    "d = 2**n #dimension of H. Space\n",
    "rng = np.random.default_rng(seed)\n",
    "rho = qu.rand_dm(d)[:]\n",
    "# rho = rho*100"
   ]
  },
  {
   "cell_type": "markdown",
   "metadata": {},
   "source": [
    "## Function that computes the traces of the different powers of the matrix"
   ]
  },
  {
   "cell_type": "code",
   "execution_count": 55,
   "metadata": {},
   "outputs": [],
   "source": [
    "def get_traces(rho):\n",
    "    traces = []\n",
    "    for i in range(rho.shape[0]):\n",
    "        traces.append(np.trace( np.linalg.matrix_power(rho, i+1)))\n",
    "    return np.array(traces)"
   ]
  },
  {
   "cell_type": "code",
   "execution_count": 56,
   "metadata": {},
   "outputs": [
    {
     "name": "stdout",
     "output_type": "stream",
     "text": [
      "Traces: [1.        +0.00000000e+00j 0.43721059+0.00000000e+00j\n",
      " 0.22992778-8.67361738e-19j 0.12899769+0.00000000e+00j]\n",
      "Dimension of vector of traces: (4,)\n",
      "Makes sense that the first trace is one bc we are dealing with a density matrix\n"
     ]
    }
   ],
   "source": [
    "traces = get_traces(rho)\n",
    "print(f'Traces: {traces}')\n",
    "print(f'Dimension of vector of traces: {traces.shape}')\n",
    "print('Makes sense that the first trace is one bc we are dealing with a density matrix')"
   ]
  },
  {
   "cell_type": "markdown",
   "metadata": {},
   "source": [
    "## Implementation of the F-L algorithm\n",
    "We use '@jit(nopython=True)' decorator from Numba to compile the function and make it faster when used with bigger matrices."
   ]
  },
  {
   "cell_type": "code",
   "execution_count": 57,
   "metadata": {},
   "outputs": [],
   "source": [
    "@jit(nopython=True)\n",
    "def c_n_m(n, m, vec_of_traces):\n",
    "    \"\"\"Auxiliary function used in the recursive part of the Faddeev LeVerrier algorithm.\n",
    "    Ref: https://en.wikipedia.org/wiki/Faddeev%E2%80%93LeVerrier_algorithm\n",
    "    \"\"\"\n",
    "    suma = 0\n",
    "    if (m==0):\n",
    "        return 1.\n",
    "\n",
    "    for k in range(1, m+1):\n",
    "        suma = suma + c_n_m(n, m-k, vec_of_traces) * vec_of_traces[k-1]\n",
    "    return suma*(-1/m)   \n",
    "\n",
    "\n",
    "@jit(nopython=True) \n",
    "def compute_coefs(n, vec_of_traces):\n",
    "    \"\"\"Compute coefficients of characteristic polynomial using\n",
    "    the Faddeev LeVerrier algorithm.\n",
    "\n",
    "    Refs: https://en.wikipedia.org/wiki/Newton%27s_identities\n",
    "          https://en.wikipedia.org/wiki/Faddeev%E2%80%93LeVerrier_algorithm\n",
    "\n",
    "\n",
    "    Args:\n",
    "        n (int): Degree of the polynomial. In this case is the dimension n  of the density matrix of shape (nxn)\n",
    "        vec_of_traces (np.array[float]): Array with the traces of A^i for i=1,..., n\n",
    "\n",
    "    Returns:\n",
    "        np.array[float]: Array with the coefficients of the characteristic polynomial.\n",
    "    \"\"\"\n",
    "    c_list = [1.]\n",
    "    for m in range(1, n+1):\n",
    "        c_list.append(c_n_m(n, m, vec_of_traces) )\n",
    "    \n",
    "    return np.array(c_list)   "
   ]
  },
  {
   "cell_type": "markdown",
   "metadata": {},
   "source": [
    "# Check"
   ]
  },
  {
   "cell_type": "markdown",
   "metadata": {},
   "source": [
    "Compute the coefficients of the polynomial."
   ]
  },
  {
   "cell_type": "code",
   "execution_count": 58,
   "metadata": {},
   "outputs": [],
   "source": [
    "coefs = compute_coefs(d, get_traces(rho))"
   ]
  },
  {
   "cell_type": "markdown",
   "metadata": {},
   "source": [
    "Generate a numpy polynomial with the coefficients. The array is used in reverse because of the way the numpy function works.\n",
    "We find the roots of the polynomial with the method 'roots()' and print the array of the eigenvalues. all of them are real and positive.\n"
   ]
  },
  {
   "cell_type": "code",
   "execution_count": 59,
   "metadata": {},
   "outputs": [
    {
     "name": "stdout",
     "output_type": "stream",
     "text": [
      "[0.05024531-7.66118421e-17j 0.07838776+8.22564533e-17j\n",
      " 0.2793166 -3.66375758e-18j 0.59205033-1.29189465e-17j]\n"
     ]
    }
   ],
   "source": [
    "poly = np.polynomial.polynomial.Polynomial(coefs[::-1] )\n",
    "np_roots = poly.roots()\n",
    "print(np.sort(np_roots))"
   ]
  },
  {
   "cell_type": "markdown",
   "metadata": {},
   "source": [
    "Let's compute the eigenvalues of the density matrices using the function 'np.linal.eig' and check that they are the same."
   ]
  },
  {
   "cell_type": "code",
   "execution_count": 60,
   "metadata": {},
   "outputs": [
    {
     "name": "stdout",
     "output_type": "stream",
     "text": [
      "[0.05024531 0.07838776 0.2793166  0.59205033]\n"
     ]
    }
   ],
   "source": [
    "print(np.sort(np.real(np.linalg.eig(rho)[0])))"
   ]
  },
  {
   "cell_type": "markdown",
   "metadata": {},
   "source": [
    "Let's print the polynomial. We see the difference in size between the coefficients. The constant term is very small ~ order(1E-4) while the term of 4th order is 1. This will create instabilities when finding the roots. Specially in bigger dimensions."
   ]
  },
  {
   "cell_type": "code",
   "execution_count": 61,
   "metadata": {},
   "outputs": [
    {
     "name": "stdout",
     "output_type": "stream",
     "text": [
      "(0.0006513271093665438-2.8912057932946783e-19j) -\n",
      "(0.024703965283386788-2.8912057932946783e-19j)·x¹ +\n",
      "(0.28139470627328345-0j)·x² - (1-0j)·x³ + (1+0j)·x⁴\n"
     ]
    }
   ],
   "source": [
    "print(poly)"
   ]
  }
 ],
 "metadata": {
  "kernelspec": {
   "display_name": "Python 3.9.7 ('TFgpu')",
   "language": "python",
   "name": "python3"
  },
  "language_info": {
   "codemirror_mode": {
    "name": "ipython",
    "version": 3
   },
   "file_extension": ".py",
   "mimetype": "text/x-python",
   "name": "python",
   "nbconvert_exporter": "python",
   "pygments_lexer": "ipython3",
   "version": "3.9.7"
  },
  "orig_nbformat": 4,
  "vscode": {
   "interpreter": {
    "hash": "8e11f771aa81ca7c54d36d3a0f5c5121193ab3df27c10335e034f223aac86bc0"
   }
  }
 },
 "nbformat": 4,
 "nbformat_minor": 2
}
