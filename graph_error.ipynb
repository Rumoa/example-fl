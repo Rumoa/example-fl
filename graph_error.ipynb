{
 "cells": [
  {
   "cell_type": "code",
   "execution_count": 1,
   "metadata": {},
   "outputs": [],
   "source": [
    "import numpy as np\n",
    "import qutip as qu\n",
    "from error_estimation import single_generate_mse\n",
    "from functools import partial"
   ]
  },
  {
   "cell_type": "code",
   "execution_count": 2,
   "metadata": {},
   "outputs": [],
   "source": [
    "# dimension = 2\n",
    "# epsilon = 0.0001\n",
    "n_matrices = 1000\n",
    "max_dimension =6\n",
    "\n",
    "epsilons = [1E-2/10**i for i in range(7)]\n",
    "dimensions = np.arange(2, max_dimension+1)\n"
   ]
  },
  {
   "cell_type": "code",
   "execution_count": 3,
   "metadata": {},
   "outputs": [
    {
     "data": {
      "text/plain": [
       "array([2, 3, 4, 5, 6])"
      ]
     },
     "execution_count": 3,
     "metadata": {},
     "output_type": "execute_result"
    }
   ],
   "source": [
    "epsilons\n",
    "dimensions"
   ]
  },
  {
   "cell_type": "code",
   "execution_count": null,
   "metadata": {},
   "outputs": [],
   "source": []
  },
  {
   "cell_type": "code",
   "execution_count": 4,
   "metadata": {},
   "outputs": [],
   "source": [
    "# rhos = [[qu.rand_dm(d)[:] for _ in range(n_matrices)]for d in dimensions]"
   ]
  },
  {
   "cell_type": "code",
   "execution_count": null,
   "metadata": {},
   "outputs": [],
   "source": [
    "\n"
   ]
  },
  {
   "cell_type": "code",
   "execution_count": 5,
   "metadata": {},
   "outputs": [
    {
     "name": "stdout",
     "output_type": "stream",
     "text": [
      "Dim: 2, Eps: 0.01\n",
      "Dim: 2, Eps: 0.001\n",
      "Dim: 2, Eps: 0.0001\n",
      "Dim: 2, Eps: 1e-05\n",
      "Dim: 2, Eps: 1e-06\n",
      "Dim: 2, Eps: 1e-07\n",
      "Dim: 2, Eps: 1e-08\n",
      "Dim: 3, Eps: 0.01\n",
      "Dim: 3, Eps: 0.001\n",
      "Dim: 3, Eps: 0.0001\n",
      "Dim: 3, Eps: 1e-05\n",
      "Dim: 3, Eps: 1e-06\n",
      "Dim: 3, Eps: 1e-07\n",
      "Dim: 3, Eps: 1e-08\n",
      "Dim: 4, Eps: 0.01\n",
      "Dim: 4, Eps: 0.001\n",
      "Dim: 4, Eps: 0.0001\n",
      "Dim: 4, Eps: 1e-05\n",
      "Dim: 4, Eps: 1e-06\n",
      "Dim: 4, Eps: 1e-07\n",
      "Dim: 4, Eps: 1e-08\n",
      "Dim: 5, Eps: 0.01\n",
      "Dim: 5, Eps: 0.001\n",
      "Dim: 5, Eps: 0.0001\n",
      "Dim: 5, Eps: 1e-05\n",
      "Dim: 5, Eps: 1e-06\n",
      "Dim: 5, Eps: 1e-07\n",
      "Dim: 5, Eps: 1e-08\n",
      "Dim: 6, Eps: 0.01\n",
      "Dim: 6, Eps: 0.001\n",
      "Dim: 6, Eps: 0.0001\n",
      "Dim: 6, Eps: 1e-05\n",
      "Dim: 6, Eps: 1e-06\n",
      "Dim: 6, Eps: 1e-07\n",
      "Dim: 6, Eps: 1e-08\n"
     ]
    }
   ],
   "source": [
    "solutions_diff_dimensions = []\n",
    "for dimension in dimensions:\n",
    "    solutions_per_eps_same_dim=[]\n",
    "    for epsilon in epsilons:\n",
    "        print(f\"Dim: {dimension}, Eps: {epsilon}\")\n",
    "        partial_mse = partial(\n",
    "            single_generate_mse, epsilon=epsilon, dimension=dimension\n",
    "        )\n",
    "        rhos = [qu.rand_dm(dimension)[:] for _ in range(n_matrices)]\n",
    "        mse_list_over_rhos = qu.parallel.parfor(partial_mse, rhos)\n",
    "        solutions_per_eps_same_dim.append(mse_list_over_rhos)\n",
    "    solutions_diff_dimensions.append(solutions_per_eps_same_dim)\n"
   ]
  },
  {
   "cell_type": "code",
   "execution_count": 7,
   "metadata": {},
   "outputs": [
    {
     "data": {
      "text/plain": [
       "['results_aggregated_mse.job']"
      ]
     },
     "execution_count": 7,
     "metadata": {},
     "output_type": "execute_result"
    }
   ],
   "source": [
    "import joblib\n",
    "\n",
    "joblib.dump(solutions_diff_dimensions, \"results_aggregated_mse.job\")"
   ]
  },
  {
   "cell_type": "code",
   "execution_count": 7,
   "metadata": {},
   "outputs": [
    {
     "data": {
      "text/plain": [
       "5"
      ]
     },
     "execution_count": 7,
     "metadata": {},
     "output_type": "execute_result"
    }
   ],
   "source": [
    "len(solutions_diff_dimensions)\n"
   ]
  },
  {
   "cell_type": "markdown",
   "metadata": {},
   "source": [
    "## Dimension 2"
   ]
  },
  {
   "cell_type": "code",
   "execution_count": 55,
   "metadata": {},
   "outputs": [],
   "source": []
  },
  {
   "cell_type": "code",
   "execution_count": 53,
   "metadata": {},
   "outputs": [
    {
     "data": {
      "text/plain": [
       "(5, 35, 1000)"
      ]
     },
     "execution_count": 53,
     "metadata": {},
     "output_type": "execute_result"
    }
   ],
   "source": []
  },
  {
   "cell_type": "code",
   "execution_count": 54,
   "metadata": {},
   "outputs": [
    {
     "data": {
      "text/plain": [
       "(5, 7, 1000)"
      ]
     },
     "execution_count": 54,
     "metadata": {},
     "output_type": "execute_result"
    }
   ],
   "source": []
  },
  {
   "cell_type": "code",
   "execution_count": 59,
   "metadata": {},
   "outputs": [
    {
     "data": {
      "text/plain": [
       "(5, 7, 1000)"
      ]
     },
     "execution_count": 59,
     "metadata": {},
     "output_type": "execute_result"
    }
   ],
   "source": [
    "np.array(solutions_diff_dimensions).shape"
   ]
  },
  {
   "cell_type": "code",
   "execution_count": 60,
   "metadata": {},
   "outputs": [],
   "source": [
    "mse_list = solutions_diff_dimensions[0]\n"
   ]
  },
  {
   "cell_type": "code",
   "execution_count": 61,
   "metadata": {},
   "outputs": [
    {
     "data": {
      "text/plain": [
       "(7, 1000)"
      ]
     },
     "execution_count": 61,
     "metadata": {},
     "output_type": "execute_result"
    }
   ],
   "source": [
    "np.array(mse_list).shape"
   ]
  },
  {
   "cell_type": "code",
   "execution_count": 8,
   "metadata": {},
   "outputs": [],
   "source": [
    "all_data_array = np.array(solutions_diff_dimensions)"
   ]
  },
  {
   "cell_type": "code",
   "execution_count": 9,
   "metadata": {},
   "outputs": [],
   "source": [
    "mus = np.mean(all_data_array, axis=2)\n",
    "stds = np.std(all_data_array, axis=2)"
   ]
  },
  {
   "cell_type": "code",
   "execution_count": 10,
   "metadata": {},
   "outputs": [
    {
     "data": {
      "text/plain": [
       "(5, 7)"
      ]
     },
     "execution_count": 10,
     "metadata": {},
     "output_type": "execute_result"
    }
   ],
   "source": [
    "mus.shape"
   ]
  },
  {
   "cell_type": "code",
   "execution_count": 11,
   "metadata": {},
   "outputs": [],
   "source": [
    "import matplotlib.pyplot as plt"
   ]
  },
  {
   "cell_type": "code",
   "execution_count": 19,
   "metadata": {},
   "outputs": [
    {
     "data": {
      "text/plain": [
       "[]"
      ]
     },
     "execution_count": 19,
     "metadata": {},
     "output_type": "execute_result"
    },
    {
     "data": {
      "image/png": "[encoded data removed]",
      "text/plain": [
       "<Figure size 640x480 with 1 Axes>"
      ]
     },
     "metadata": {},
     "output_type": "display_data"
    }
   ],
   "source": [
    "for i in range(mus.shape[0]):\n",
    "    dimension = dimensions[i]\n",
    "    # plt.errorbar(epsilons, mus[i, :],yerr=stds[i, :] , marker = 'o',   label=f'Dimension {dimension}')\n",
    "    plt.plot(epsilons, mus[i, :], 'o', label=f'Dimension {dimension}')\n",
    "\n",
    "plt.legend()\n",
    "plt.yscale('log')\n",
    "plt.xscale('log')\n",
    "plt.xlabel(r'$\\epsilon$')\n",
    "plt.ylabel(f'Mean MSE')\n",
    "plt.title('Averaged MSE over 1000 random '+r'$\\rho$' +\".\\n MSE computed with 1000 noisy samples.\")\n",
    "plt.plot()"
   ]
  },
  {
   "cell_type": "code",
   "execution_count": null,
   "metadata": {},
   "outputs": [],
   "source": []
  }
 ],
 "metadata": {
  "kernelspec": {
   "display_name": "Python 3.10.4 ('base')",
   "language": "python",
   "name": "python3"
  },
  "language_info": {
   "codemirror_mode": {
    "name": "ipython",
    "version": 3
   },
   "file_extension": ".py",
   "mimetype": "text/x-python",
   "name": "python",
   "nbconvert_exporter": "python",
   "pygments_lexer": "ipython3",
   "version": "3.10.4 (main, Mar 31 2022, 08:41:55) [GCC 7.5.0]"
  },
  "orig_nbformat": 4,
  "vscode": {
   "interpreter": {
    "hash": "e7be0bd88622506fe35bac977978794a21d34eb3b6bd5d6506b9cc4f370666d7"
   }
  }
 },
 "nbformat": 4,
 "nbformat_minor": 2
}
